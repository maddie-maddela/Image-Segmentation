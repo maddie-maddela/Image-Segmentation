{
 "cells": [
  {
   "cell_type": "code",
   "execution_count": 1,
   "id": "75072047",
   "metadata": {},
   "outputs": [
    {
     "name": "stdout",
     "output_type": "stream",
     "text": [
      "WARNING:tensorflow:From C:\\Users\\AVMI\\anaconda3\\envs\\test_env\\Lib\\site-packages\\keras\\src\\losses.py:2976: The name tf.losses.sparse_softmax_cross_entropy is deprecated. Please use tf.compat.v1.losses.sparse_softmax_cross_entropy instead.\n",
      "\n",
      "Segmentation Models: using `keras` framework.\n",
      "2.15.0\n"
     ]
    }
   ],
   "source": [
    "from tensorflow.keras.models import Model\n",
    "from tensorflow.keras.layers import Input, Conv2D, MaxPooling2D, Dropout, UpSampling2D, concatenate\n",
    "import tensorflow as tf\n",
    "import tensorflow.keras\n",
    "\n",
    "from skimage import transform, io\n",
    "from tensorflow.keras.preprocessing.image import img_to_array\n",
    "from tensorflow.keras import models\n",
    "import numpy as np\n",
    "import matplotlib.pyplot as plt\n",
    "import os\n",
    "import segmentation_models as sm\n",
    "from tensorflow.keras.metrics import MeanIoU\n",
    "import cv2 # package name opencv\n",
    "# version of Tensorflow\n",
    "print(tf.__version__)\n",
    "# To avoid Kernel crash\n",
    "import os\n",
    "os.environ['KMP_DUPLICATE_LIB_OK']='True'"
   ]
  },
  {
   "cell_type": "code",
   "execution_count": 2,
   "id": "cc3b59c7",
   "metadata": {},
   "outputs": [],
   "source": [
    "img_dir = r'C:\\Users\\AVMI\\Documents\\Python Projects\\VOCtrainval_11-May-2012\\VOCdevkit\\VOC2012' # Folder where images are stored\n",
    "category1 = \"Images\"\n",
    "path1 = os.path.join(img_dir, category1)\n",
    "\n",
    "category2 = \"SegmentationClass\"\n",
    "path2 = os.path.join(img_dir, category2)\n",
    "class_num = 0\n",
    "training_data_imgs = []\n",
    "training_data_anns = []\n",
    "IMG_Y_SIZE = 304 #152 #300 #150\n",
    "IMG_X_SIZE = 304 #240 #480 #240\n",
    "\n",
    "\n",
    "# Read the training images into the list 'training_data_imgs'\n",
    "for img in os.listdir(path1):\n",
    "    try:\n",
    "        temp_array = cv2.imread(os.path.join(path1, img))\n",
    "        temp_array1 = cv2.cvtColor(temp_array, cv2.COLOR_BGR2RGB)\n",
    "        img_array = cv2.resize(temp_array1, (IMG_X_SIZE, IMG_Y_SIZE))\n",
    "        training_data_imgs.append(img_array) # add image and label to list\n",
    "    except Exception as e:\n",
    "        pass\n",
    "\n",
    "    \n",
    "# Read the annotated images into the list 'training_data_anns'\n",
    "\n",
    "for img in os.listdir(path2):\n",
    "    try:\n",
    "        temp_array = cv2.imread(os.path.join(path2, img), cv2.IMREAD_UNCHANGED)\n",
    "        temp_array1 = cv2.cvtColor(temp_array, cv2.COLOR_BGR2RGB)\n",
    "        ann_array = cv2.resize(temp_array1, (IMG_X_SIZE, IMG_Y_SIZE))\n",
    "        training_data_anns.append(ann_array) # add image and label to list\n",
    "    except Exception as e:\n",
    "        pass    \n",
    "\n",
    "\n"
   ]
  },
  {
   "cell_type": "code",
   "execution_count": 3,
   "id": "44f52fc1",
   "metadata": {},
   "outputs": [
    {
     "data": {
      "text/plain": [
       "(304, 304, 3)"
      ]
     },
     "execution_count": 3,
     "metadata": {},
     "output_type": "execute_result"
    }
   ],
   "source": [
    "training_data_imgs[0].shape"
   ]
  },
  {
   "cell_type": "code",
   "execution_count": 4,
   "id": "88b93923",
   "metadata": {},
   "outputs": [
    {
     "data": {
      "text/plain": [
       "(304, 304, 3)"
      ]
     },
     "execution_count": 4,
     "metadata": {},
     "output_type": "execute_result"
    }
   ],
   "source": [
    "img_array.shape"
   ]
  },
  {
   "cell_type": "code",
   "execution_count": 5,
   "id": "c41e2507",
   "metadata": {},
   "outputs": [
    {
     "data": {
      "text/plain": [
       "array([ True, False, False])"
      ]
     },
     "execution_count": 5,
     "metadata": {},
     "output_type": "execute_result"
    }
   ],
   "source": [
    "img_array[10][10] == (255,0,0)"
   ]
  },
  {
   "cell_type": "code",
   "execution_count": 6,
   "id": "cd23bdf3",
   "metadata": {},
   "outputs": [
    {
     "name": "stdout",
     "output_type": "stream",
     "text": [
      "255 255 255\n"
     ]
    }
   ],
   "source": [
    "r,g,b = img_array[10][10]\n",
    "print(r,g,b)"
   ]
  },
  {
   "cell_type": "code",
   "execution_count": 7,
   "id": "fe6720f9",
   "metadata": {},
   "outputs": [],
   "source": [
    "training_data_imgs = np.array(training_data_imgs)\n",
    "training_data_anns = np.array(training_data_anns)"
   ]
  },
  {
   "cell_type": "code",
   "execution_count": 8,
   "id": "d745d4fc",
   "metadata": {},
   "outputs": [],
   "source": [
    "#Class colors\n",
    "\n",
    "Human = (192, 128, 128)    \n",
    "Cow = (64, 128, 0)  \n",
    "Horse = (192, 0, 128)\n",
    "Animal = (128, 64, 0)\n",
    "Dog = (64, 0, 128)\n",
    "Cat = (64, 0, 0)\n",
    "Bird = (128, 128, 0)\n",
    "\n",
    "Train = (128, 192, 0)\n",
    "Boat = (0, 0, 128)\n",
    "Bike = (64, 128, 128)\n",
    "Bicycle = (0, 128, 0)\n",
    "Plane = (128, 0, 0)\n",
    "Bus = (0, 128, 128)\n",
    "Car = (128, 128, 128)\n",
    "\n",
    "Chair = (192, 0, 0)\n",
    "Couch = (0, 192, 0)\n",
    "Table = (192, 128, 0)\n",
    "\n",
    "Bottle = (128, 0, 128)\n",
    "\n",
    "Computer_TV = (0, 64, 128)\n",
    "\n",
    "Plant = (0, 64, 0)\n",
    "\n",
    "Outline = (224, 224, 192)\n",
    "Background = (0, 0, 0)\n"
   ]
  },
  {
   "cell_type": "code",
   "execution_count": 9,
   "id": "48c87b57",
   "metadata": {},
   "outputs": [],
   "source": [
    "Human = np.array(Human)\n",
    "Cow = np.array(Cow)\n",
    "Horse = np.array(Horse)\n",
    "Animal = np.array(Animal)\n",
    "Dog = np.array(Dog)\n",
    "Cat = np.array(Cat)\n",
    "Bird = np.array(Bird)\n",
    "\n",
    "Train = np.array(Train)\n",
    "Boat = np.array(Boat)\n",
    "Bike = np.array(Bike)\n",
    "Bicycle = np.array(Bicycle)\n",
    "Plane = np.array(Plane)\n",
    "Bus = np.array(Bus)\n",
    "Car = np.array(Car)\n",
    "\n",
    "Chair = np.array(Chair)\n",
    "Couch = np.array(Couch)\n",
    "Table = np.array(Table)\n",
    "Bottle = np.array(Bottle)\n",
    "Computer_TV = np.array(Computer_TV)\n",
    "Plant = np.array(Plant)\n",
    "Outline = np.array(Outline)\n",
    "Background = np.array(Background)"
   ]
  },
  {
   "cell_type": "code",
   "execution_count": 10,
   "id": "a5614d0d",
   "metadata": {},
   "outputs": [],
   "source": [
    "def rgb_to_2D_label(label):\n",
    "    \"\"\"\n",
    "    Suply our labale masks as input in RGB format. \n",
    "    Replace pixels with specific RGB values ...\n",
    "    \"\"\"\n",
    "    #label_seg = np.ones(label.shape,dtype=np.uint8)\n",
    "    label_seg = np.full(label.shape, 0)\n",
    "    label_seg [np.all(label==Human,axis=-1)] = 1\n",
    "    label_seg [np.all(label==Cow,axis=-1)] = 2\n",
    "    label_seg [np.all(label==Horse,axis=-1)] = 3\n",
    "    label_seg [np.all(label==Animal,axis=-1)] = 4\n",
    "    label_seg [np.all(label==Dog,axis=-1)] = 5\n",
    "    label_seg [np.all(label==Cat,axis=-1)] = 6\n",
    "    label_seg [np.all(label==Bird,axis=-1)] = 7\n",
    "    label_seg [np.all(label==Train,axis=-1)] = 8\n",
    "    label_seg [np.all(label==Boat,axis=-1)] = 9\n",
    "    label_seg [np.all(label==Bike,axis=-1)] = 10\n",
    "    label_seg [np.all(label==Bicycle,axis=-1)] = 11\n",
    "    label_seg [np.all(label==Plane,axis=-1)] = 12\n",
    "    label_seg [np.all(label==Bus,axis=-1)] = 13\n",
    "    label_seg [np.all(label==Car,axis=-1)] = 14\n",
    "    label_seg [np.all(label==Chair,axis=-1)] = 15\n",
    "    label_seg [np.all(label==Couch,axis=-1)] = 16\n",
    "    label_seg [np.all(label==Table,axis=-1)] = 17\n",
    "    label_seg [np.all(label==Bottle,axis=-1)] = 18\n",
    "    label_seg [np.all(label==Computer_TV,axis=-1)] = 19\n",
    "    label_seg [np.all(label==Plant,axis=-1)] = 20\n",
    "    label_seg [np.all(label==Outline,axis=-1)] = 21\n",
    "    label_seg [np.all(label==Background,axis=-1)] = 0\n",
    "    \n",
    "    label_seg = label_seg[:,:,0]  #Just take the first channel, no need for all 3 channels\n",
    "    \n",
    "    return label_seg"
   ]
  },
  {
   "cell_type": "code",
   "execution_count": 11,
   "id": "3d7fea6b",
   "metadata": {},
   "outputs": [
    {
     "name": "stdout",
     "output_type": "stream",
     "text": [
      "Unique labels in label dataset are:  [ 0  1  2  3  4  5  6  7  8  9 10 11 12 13 14 15 16 17 18 19 20 21]\n"
     ]
    }
   ],
   "source": [
    "labels = []\n",
    "for i in range(training_data_anns.shape[0]):\n",
    "    label = rgb_to_2D_label(training_data_anns[i])\n",
    "    labels.append(label)    \n",
    "\n",
    "labels = np.array(labels)   \n",
    "\n",
    "\n",
    "print(\"Unique labels in label dataset are: \", np.unique(labels))"
   ]
  },
  {
   "cell_type": "code",
   "execution_count": 12,
   "id": "a49e3aad",
   "metadata": {},
   "outputs": [],
   "source": [
    "labels = np.expand_dims(labels, axis=3)"
   ]
  },
  {
   "cell_type": "code",
   "execution_count": 13,
   "id": "6d613f5d",
   "metadata": {},
   "outputs": [
    {
     "data": {
      "text/plain": [
       "array([[[[ 0],\n",
       "         [ 0],\n",
       "         [ 0],\n",
       "         ...,\n",
       "         [ 0],\n",
       "         [ 0],\n",
       "         [ 0]],\n",
       "\n",
       "        [[ 0],\n",
       "         [ 0],\n",
       "         [ 0],\n",
       "         ...,\n",
       "         [ 0],\n",
       "         [ 0],\n",
       "         [ 0]],\n",
       "\n",
       "        [[ 0],\n",
       "         [ 0],\n",
       "         [ 0],\n",
       "         ...,\n",
       "         [ 0],\n",
       "         [ 0],\n",
       "         [ 0]],\n",
       "\n",
       "        ...,\n",
       "\n",
       "        [[ 0],\n",
       "         [ 0],\n",
       "         [ 0],\n",
       "         ...,\n",
       "         [ 0],\n",
       "         [ 0],\n",
       "         [ 0]],\n",
       "\n",
       "        [[ 0],\n",
       "         [ 0],\n",
       "         [ 0],\n",
       "         ...,\n",
       "         [ 0],\n",
       "         [ 0],\n",
       "         [ 0]],\n",
       "\n",
       "        [[ 0],\n",
       "         [ 0],\n",
       "         [ 0],\n",
       "         ...,\n",
       "         [ 0],\n",
       "         [ 0],\n",
       "         [ 0]]],\n",
       "\n",
       "\n",
       "       [[[ 0],\n",
       "         [ 0],\n",
       "         [ 0],\n",
       "         ...,\n",
       "         [ 0],\n",
       "         [ 0],\n",
       "         [ 0]],\n",
       "\n",
       "        [[ 0],\n",
       "         [ 0],\n",
       "         [ 0],\n",
       "         ...,\n",
       "         [ 0],\n",
       "         [ 0],\n",
       "         [ 0]],\n",
       "\n",
       "        [[ 0],\n",
       "         [ 0],\n",
       "         [ 0],\n",
       "         ...,\n",
       "         [ 0],\n",
       "         [ 0],\n",
       "         [ 0]],\n",
       "\n",
       "        ...,\n",
       "\n",
       "        [[ 0],\n",
       "         [ 0],\n",
       "         [ 0],\n",
       "         ...,\n",
       "         [ 0],\n",
       "         [ 0],\n",
       "         [ 0]],\n",
       "\n",
       "        [[ 0],\n",
       "         [ 0],\n",
       "         [ 0],\n",
       "         ...,\n",
       "         [ 0],\n",
       "         [ 0],\n",
       "         [ 0]],\n",
       "\n",
       "        [[ 0],\n",
       "         [ 0],\n",
       "         [ 0],\n",
       "         ...,\n",
       "         [ 0],\n",
       "         [ 0],\n",
       "         [ 0]]],\n",
       "\n",
       "\n",
       "       [[[ 0],\n",
       "         [ 0],\n",
       "         [ 0],\n",
       "         ...,\n",
       "         [ 0],\n",
       "         [ 0],\n",
       "         [ 0]],\n",
       "\n",
       "        [[ 0],\n",
       "         [ 0],\n",
       "         [ 0],\n",
       "         ...,\n",
       "         [ 0],\n",
       "         [ 0],\n",
       "         [ 0]],\n",
       "\n",
       "        [[ 0],\n",
       "         [ 0],\n",
       "         [ 0],\n",
       "         ...,\n",
       "         [ 0],\n",
       "         [ 0],\n",
       "         [ 0]],\n",
       "\n",
       "        ...,\n",
       "\n",
       "        [[ 0],\n",
       "         [ 0],\n",
       "         [ 0],\n",
       "         ...,\n",
       "         [ 0],\n",
       "         [ 0],\n",
       "         [ 0]],\n",
       "\n",
       "        [[ 0],\n",
       "         [ 0],\n",
       "         [ 0],\n",
       "         ...,\n",
       "         [ 0],\n",
       "         [ 0],\n",
       "         [ 0]],\n",
       "\n",
       "        [[ 0],\n",
       "         [ 0],\n",
       "         [ 0],\n",
       "         ...,\n",
       "         [ 0],\n",
       "         [ 0],\n",
       "         [ 0]]],\n",
       "\n",
       "\n",
       "       ...,\n",
       "\n",
       "\n",
       "       [[[ 0],\n",
       "         [ 0],\n",
       "         [ 0],\n",
       "         ...,\n",
       "         [21],\n",
       "         [21],\n",
       "         [21]],\n",
       "\n",
       "        [[ 0],\n",
       "         [ 0],\n",
       "         [ 0],\n",
       "         ...,\n",
       "         [21],\n",
       "         [21],\n",
       "         [21]],\n",
       "\n",
       "        [[ 0],\n",
       "         [ 0],\n",
       "         [ 0],\n",
       "         ...,\n",
       "         [ 0],\n",
       "         [ 0],\n",
       "         [21]],\n",
       "\n",
       "        ...,\n",
       "\n",
       "        [[ 0],\n",
       "         [ 0],\n",
       "         [ 0],\n",
       "         ...,\n",
       "         [ 1],\n",
       "         [ 0],\n",
       "         [21]],\n",
       "\n",
       "        [[ 0],\n",
       "         [ 0],\n",
       "         [ 0],\n",
       "         ...,\n",
       "         [ 1],\n",
       "         [ 0],\n",
       "         [21]],\n",
       "\n",
       "        [[ 0],\n",
       "         [ 0],\n",
       "         [ 0],\n",
       "         ...,\n",
       "         [ 1],\n",
       "         [ 0],\n",
       "         [21]]],\n",
       "\n",
       "\n",
       "       [[[ 0],\n",
       "         [ 0],\n",
       "         [ 0],\n",
       "         ...,\n",
       "         [ 0],\n",
       "         [ 0],\n",
       "         [ 0]],\n",
       "\n",
       "        [[ 0],\n",
       "         [ 0],\n",
       "         [ 0],\n",
       "         ...,\n",
       "         [ 0],\n",
       "         [ 0],\n",
       "         [ 0]],\n",
       "\n",
       "        [[ 0],\n",
       "         [ 0],\n",
       "         [ 0],\n",
       "         ...,\n",
       "         [ 0],\n",
       "         [ 0],\n",
       "         [ 0]],\n",
       "\n",
       "        ...,\n",
       "\n",
       "        [[ 0],\n",
       "         [ 0],\n",
       "         [ 0],\n",
       "         ...,\n",
       "         [ 0],\n",
       "         [ 0],\n",
       "         [ 0]],\n",
       "\n",
       "        [[ 0],\n",
       "         [ 0],\n",
       "         [ 0],\n",
       "         ...,\n",
       "         [ 0],\n",
       "         [ 0],\n",
       "         [ 0]],\n",
       "\n",
       "        [[ 0],\n",
       "         [ 0],\n",
       "         [ 0],\n",
       "         ...,\n",
       "         [ 0],\n",
       "         [ 0],\n",
       "         [ 0]]],\n",
       "\n",
       "\n",
       "       [[[ 0],\n",
       "         [ 0],\n",
       "         [ 0],\n",
       "         ...,\n",
       "         [18],\n",
       "         [18],\n",
       "         [18]],\n",
       "\n",
       "        [[ 0],\n",
       "         [ 0],\n",
       "         [ 0],\n",
       "         ...,\n",
       "         [18],\n",
       "         [18],\n",
       "         [18]],\n",
       "\n",
       "        [[ 0],\n",
       "         [ 0],\n",
       "         [ 0],\n",
       "         ...,\n",
       "         [18],\n",
       "         [18],\n",
       "         [18]],\n",
       "\n",
       "        ...,\n",
       "\n",
       "        [[ 0],\n",
       "         [ 0],\n",
       "         [ 0],\n",
       "         ...,\n",
       "         [ 0],\n",
       "         [ 0],\n",
       "         [ 0]],\n",
       "\n",
       "        [[ 0],\n",
       "         [ 0],\n",
       "         [ 0],\n",
       "         ...,\n",
       "         [ 0],\n",
       "         [ 0],\n",
       "         [ 0]],\n",
       "\n",
       "        [[ 0],\n",
       "         [ 0],\n",
       "         [ 0],\n",
       "         ...,\n",
       "         [ 0],\n",
       "         [ 0],\n",
       "         [ 0]]]])"
      ]
     },
     "execution_count": 13,
     "metadata": {},
     "output_type": "execute_result"
    }
   ],
   "source": [
    "labels"
   ]
  },
  {
   "cell_type": "code",
   "execution_count": 14,
   "id": "db898817",
   "metadata": {},
   "outputs": [
    {
     "data": {
      "text/plain": [
       "array([[ 0,  0,  0, ..., 18, 18, 18],\n",
       "       [ 0,  0,  0, ..., 18, 18, 18],\n",
       "       [ 0,  0,  0, ..., 18, 18, 18],\n",
       "       ...,\n",
       "       [ 0,  0,  0, ...,  0,  0,  0],\n",
       "       [ 0,  0,  0, ...,  0,  0,  0],\n",
       "       [ 0,  0,  0, ...,  0,  0,  0]])"
      ]
     },
     "execution_count": 14,
     "metadata": {},
     "output_type": "execute_result"
    }
   ],
   "source": [
    "label"
   ]
  },
  {
   "cell_type": "code",
   "execution_count": 15,
   "id": "d6be18c7",
   "metadata": {},
   "outputs": [
    {
     "data": {
      "image/png": "[encoded data removed]",
      "text/plain": [
       "<Figure size 640x480 with 3 Axes>"
      ]
     },
     "metadata": {},
     "output_type": "display_data"
    }
   ],
   "source": [
    "#Another Sanity check, view few mages\n",
    "import random\n",
    "import numpy as np\n",
    "image_number = random.randint(0, len(training_data_anns))\n",
    "\n",
    "f, axarr = plt.subplots(1,3)\n",
    "axarr[0].imshow(training_data_imgs[image_number])\n",
    "axarr[1].imshow(training_data_anns[image_number])\n",
    "axarr[2].imshow(labels[image_number][:,:,0])\n",
    "#axarr[1,1].imshow(image_rgb_matlab)\n",
    "axarr[0].title.set_text('Original' + ' ' + str(image_number))\n",
    "axarr[1].title.set_text('Annotated' + ' ' + str(image_number))\n",
    "axarr[2].title.set_text('Label conversion')\n",
    "#axarr[1,1].title.set_text('Matlab Prediction')\n",
    "plt.show()"
   ]
  },
  {
   "cell_type": "code",
   "execution_count": 16,
   "id": "731eee51",
   "metadata": {},
   "outputs": [
    {
     "name": "stdout",
     "output_type": "stream",
     "text": [
      "52\n"
     ]
    }
   ],
   "source": [
    "print(image_number)"
   ]
  },
  {
   "cell_type": "code",
   "execution_count": 17,
   "id": "3eb56c37",
   "metadata": {},
   "outputs": [],
   "source": [
    "#OneHotEncoder\n",
    "n_classes = len(np.unique(labels))\n",
    "from keras.utils import to_categorical\n",
    "labels_cat = to_categorical(labels, num_classes=n_classes)"
   ]
  },
  {
   "cell_type": "code",
   "execution_count": 18,
   "id": "48aebc42",
   "metadata": {},
   "outputs": [],
   "source": [
    "from sklearn.model_selection import train_test_split\n",
    "X_train, X_test, y_train, y_test = train_test_split(training_data_imgs, labels_cat, test_size = 0.20, random_state = 42)"
   ]
  },
  {
   "cell_type": "code",
   "execution_count": 19,
   "id": "69256a0f",
   "metadata": {},
   "outputs": [],
   "source": [
    "weights = [1/22, 1/22, 1/22, 1/22, 1/22, 1/22, 1/22, 1/22, 1/22, 1/22, 1/22, 1/22, 1/22, 1/22, 1/22, 1/22, 1/22, 1/22, 1/22, 1/22, 1/22, 1/22]\n",
    "dice_loss = sm.losses.DiceLoss(class_weights=weights) \n",
    "focal_loss = sm.losses.CategoricalFocalLoss()\n",
    "total_loss = dice_loss + (1 * focal_loss)  #\n",
    "\n",
    "\n",
    "IMG_HEIGHT = X_train.shape[1]\n",
    "IMG_WIDTH  = X_train.shape[2]\n",
    "IMG_CHANNELS = X_train.shape[3]"
   ]
  },
  {
   "cell_type": "code",
   "execution_count": 20,
   "id": "65cbe129",
   "metadata": {},
   "outputs": [
    {
     "data": {
      "text/plain": [
       "304"
      ]
     },
     "execution_count": 20,
     "metadata": {},
     "output_type": "execute_result"
    }
   ],
   "source": [
    "IMG_HEIGHT"
   ]
  },
  {
   "cell_type": "code",
   "execution_count": 21,
   "id": "2b2a1bb8",
   "metadata": {},
   "outputs": [
    {
     "data": {
      "text/plain": [
       "3"
      ]
     },
     "execution_count": 21,
     "metadata": {},
     "output_type": "execute_result"
    }
   ],
   "source": [
    "IMG_CHANNELS"
   ]
  },
  {
   "cell_type": "code",
   "execution_count": 22,
   "id": "4fba9584",
   "metadata": {},
   "outputs": [
    {
     "name": "stdout",
     "output_type": "stream",
     "text": [
      "WARNING:tensorflow:From C:\\Users\\AVMI\\anaconda3\\envs\\test_env\\Lib\\site-packages\\keras\\src\\backend.py:1398: The name tf.executing_eagerly_outside_functions is deprecated. Please use tf.compat.v1.executing_eagerly_outside_functions instead.\n",
      "\n",
      "WARNING:tensorflow:From C:\\Users\\AVMI\\anaconda3\\envs\\test_env\\Lib\\site-packages\\keras\\src\\layers\\pooling\\max_pooling2d.py:161: The name tf.nn.max_pool is deprecated. Please use tf.nn.max_pool2d instead.\n",
      "\n",
      "WARNING:tensorflow:From C:\\Users\\AVMI\\anaconda3\\envs\\test_env\\Lib\\site-packages\\keras\\src\\optimizers\\__init__.py:309: The name tf.train.Optimizer is deprecated. Please use tf.compat.v1.train.Optimizer instead.\n",
      "\n",
      "Model: \"model\"\n",
      "__________________________________________________________________________________________________\n",
      " Layer (type)                Output Shape                 Param #   Connected to                  \n",
      "==================================================================================================\n",
      " input_1 (InputLayer)        [(None, 304, 304, 3)]        0         []                            \n",
      "                                                                                                  \n",
      " conv2d (Conv2D)             (None, 304, 304, 16)         448       ['input_1[0][0]']             \n",
      "                                                                                                  \n",
      " dropout (Dropout)           (None, 304, 304, 16)         0         ['conv2d[0][0]']              \n",
      "                                                                                                  \n",
      " conv2d_1 (Conv2D)           (None, 304, 304, 16)         2320      ['dropout[0][0]']             \n",
      "                                                                                                  \n",
      " max_pooling2d (MaxPooling2  (None, 152, 152, 16)         0         ['conv2d_1[0][0]']            \n",
      " D)                                                                                               \n",
      "                                                                                                  \n",
      " conv2d_2 (Conv2D)           (None, 152, 152, 32)         4640      ['max_pooling2d[0][0]']       \n",
      "                                                                                                  \n",
      " dropout_1 (Dropout)         (None, 152, 152, 32)         0         ['conv2d_2[0][0]']            \n",
      "                                                                                                  \n",
      " conv2d_3 (Conv2D)           (None, 152, 152, 32)         9248      ['dropout_1[0][0]']           \n",
      "                                                                                                  \n",
      " max_pooling2d_1 (MaxPoolin  (None, 76, 76, 32)           0         ['conv2d_3[0][0]']            \n",
      " g2D)                                                                                             \n",
      "                                                                                                  \n",
      " conv2d_4 (Conv2D)           (None, 76, 76, 64)           18496     ['max_pooling2d_1[0][0]']     \n",
      "                                                                                                  \n",
      " dropout_2 (Dropout)         (None, 76, 76, 64)           0         ['conv2d_4[0][0]']            \n",
      "                                                                                                  \n",
      " conv2d_5 (Conv2D)           (None, 76, 76, 64)           36928     ['dropout_2[0][0]']           \n",
      "                                                                                                  \n",
      " max_pooling2d_2 (MaxPoolin  (None, 38, 38, 64)           0         ['conv2d_5[0][0]']            \n",
      " g2D)                                                                                             \n",
      "                                                                                                  \n",
      " conv2d_6 (Conv2D)           (None, 38, 38, 128)          73856     ['max_pooling2d_2[0][0]']     \n",
      "                                                                                                  \n",
      " dropout_3 (Dropout)         (None, 38, 38, 128)          0         ['conv2d_6[0][0]']            \n",
      "                                                                                                  \n",
      " conv2d_7 (Conv2D)           (None, 38, 38, 128)          147584    ['dropout_3[0][0]']           \n",
      "                                                                                                  \n",
      " max_pooling2d_3 (MaxPoolin  (None, 19, 19, 128)          0         ['conv2d_7[0][0]']            \n",
      " g2D)                                                                                             \n",
      "                                                                                                  \n",
      " conv2d_8 (Conv2D)           (None, 19, 19, 256)          295168    ['max_pooling2d_3[0][0]']     \n",
      "                                                                                                  \n",
      " dropout_4 (Dropout)         (None, 19, 19, 256)          0         ['conv2d_8[0][0]']            \n",
      "                                                                                                  \n",
      " conv2d_9 (Conv2D)           (None, 19, 19, 256)          590080    ['dropout_4[0][0]']           \n",
      "                                                                                                  \n",
      " conv2d_transpose (Conv2DTr  (None, 38, 38, 128)          131200    ['conv2d_9[0][0]']            \n",
      " anspose)                                                                                         \n",
      "                                                                                                  \n",
      " concatenate (Concatenate)   (None, 38, 38, 256)          0         ['conv2d_transpose[0][0]',    \n",
      "                                                                     'conv2d_7[0][0]']            \n",
      "                                                                                                  \n",
      " conv2d_10 (Conv2D)          (None, 38, 38, 128)          295040    ['concatenate[0][0]']         \n",
      "                                                                                                  \n",
      " dropout_5 (Dropout)         (None, 38, 38, 128)          0         ['conv2d_10[0][0]']           \n",
      "                                                                                                  \n",
      " conv2d_11 (Conv2D)          (None, 38, 38, 128)          147584    ['dropout_5[0][0]']           \n",
      "                                                                                                  \n",
      " conv2d_transpose_1 (Conv2D  (None, 76, 76, 64)           32832     ['conv2d_11[0][0]']           \n",
      " Transpose)                                                                                       \n",
      "                                                                                                  \n",
      " concatenate_1 (Concatenate  (None, 76, 76, 128)          0         ['conv2d_transpose_1[0][0]',  \n",
      " )                                                                   'conv2d_5[0][0]']            \n",
      "                                                                                                  \n",
      " conv2d_12 (Conv2D)          (None, 76, 76, 64)           73792     ['concatenate_1[0][0]']       \n",
      "                                                                                                  \n",
      " dropout_6 (Dropout)         (None, 76, 76, 64)           0         ['conv2d_12[0][0]']           \n",
      "                                                                                                  \n",
      " conv2d_13 (Conv2D)          (None, 76, 76, 64)           36928     ['dropout_6[0][0]']           \n",
      "                                                                                                  \n",
      " conv2d_transpose_2 (Conv2D  (None, 152, 152, 32)         8224      ['conv2d_13[0][0]']           \n",
      " Transpose)                                                                                       \n",
      "                                                                                                  \n",
      " concatenate_2 (Concatenate  (None, 152, 152, 64)         0         ['conv2d_transpose_2[0][0]',  \n",
      " )                                                                   'conv2d_3[0][0]']            \n"
     ]
    },
    {
     "name": "stdout",
     "output_type": "stream",
     "text": [
      "                                                                                                  \n",
      " conv2d_14 (Conv2D)          (None, 152, 152, 32)         18464     ['concatenate_2[0][0]']       \n",
      "                                                                                                  \n",
      " dropout_7 (Dropout)         (None, 152, 152, 32)         0         ['conv2d_14[0][0]']           \n",
      "                                                                                                  \n",
      " conv2d_15 (Conv2D)          (None, 152, 152, 32)         9248      ['dropout_7[0][0]']           \n",
      "                                                                                                  \n",
      " conv2d_transpose_3 (Conv2D  (None, 304, 304, 16)         2064      ['conv2d_15[0][0]']           \n",
      " Transpose)                                                                                       \n",
      "                                                                                                  \n",
      " concatenate_3 (Concatenate  (None, 304, 304, 32)         0         ['conv2d_transpose_3[0][0]',  \n",
      " )                                                                   'conv2d_1[0][0]']            \n",
      "                                                                                                  \n",
      " conv2d_16 (Conv2D)          (None, 304, 304, 16)         4624      ['concatenate_3[0][0]']       \n",
      "                                                                                                  \n",
      " dropout_8 (Dropout)         (None, 304, 304, 16)         0         ['conv2d_16[0][0]']           \n",
      "                                                                                                  \n",
      " conv2d_17 (Conv2D)          (None, 304, 304, 16)         2320      ['dropout_8[0][0]']           \n",
      "                                                                                                  \n",
      " conv2d_18 (Conv2D)          (None, 304, 304, 22)         374       ['conv2d_17[0][0]']           \n",
      "                                                                                                  \n",
      "==================================================================================================\n",
      "Total params: 1941462 (7.41 MB)\n",
      "Trainable params: 1941462 (7.41 MB)\n",
      "Non-trainable params: 0 (0.00 Byte)\n",
      "__________________________________________________________________________________________________\n"
     ]
    }
   ],
   "source": [
    "from simple_multi_unet_model import multi_unet_model, jacard_coef  \n",
    "\n",
    "metrics=['accuracy', jacard_coef]\n",
    "\n",
    "def get_model():\n",
    "    return multi_unet_model(n_classes=n_classes, IMG_HEIGHT=IMG_HEIGHT, IMG_WIDTH=IMG_WIDTH, IMG_CHANNELS=IMG_CHANNELS)\n",
    "\n",
    "model = get_model()\n",
    "model.compile(optimizer='adam', loss=total_loss, metrics=metrics)\n",
    "#model.compile(optimizer='adam', loss='categorical_crossentropy', metrics=metrics)\n",
    "model.summary()\n"
   ]
  },
  {
   "cell_type": "code",
   "execution_count": 23,
   "id": "48e95c17",
   "metadata": {},
   "outputs": [
    {
     "name": "stdout",
     "output_type": "stream",
     "text": [
      "Epoch 1/10\n",
      "WARNING:tensorflow:From C:\\Users\\AVMI\\anaconda3\\envs\\test_env\\Lib\\site-packages\\keras\\src\\utils\\tf_utils.py:492: The name tf.ragged.RaggedTensorValue is deprecated. Please use tf.compat.v1.ragged.RaggedTensorValue instead.\n",
      "\n",
      "WARNING:tensorflow:From C:\\Users\\AVMI\\anaconda3\\envs\\test_env\\Lib\\site-packages\\keras\\src\\engine\\base_layer_utils.py:384: The name tf.executing_eagerly_outside_functions is deprecated. Please use tf.compat.v1.executing_eagerly_outside_functions instead.\n",
      "\n",
      "73/73 [==============================] - 324s 4s/step - loss: 1.0563 - accuracy: 0.5449 - jacard_coef: 0.2853 - val_loss: 1.0249 - val_accuracy: 0.7107 - val_jacard_coef: 0.0570\n",
      "Epoch 2/10\n",
      "73/73 [==============================] - 293s 4s/step - loss: 1.0144 - accuracy: 0.7001 - jacard_coef: 0.2211 - val_loss: 1.0114 - val_accuracy: 0.7133 - val_jacard_coef: 0.3128\n",
      "Epoch 3/10\n",
      "73/73 [==============================] - 290s 4s/step - loss: 1.0105 - accuracy: 0.7087 - jacard_coef: 0.2704 - val_loss: 1.0103 - val_accuracy: 0.7134 - val_jacard_coef: 0.3293\n",
      "Epoch 4/10\n",
      "73/73 [==============================] - 293s 4s/step - loss: 1.0099 - accuracy: 0.7095 - jacard_coef: 0.2826 - val_loss: 1.0100 - val_accuracy: 0.7134 - val_jacard_coef: 0.3412\n",
      "Epoch 5/10\n",
      "73/73 [==============================] - 290s 4s/step - loss: 1.0097 - accuracy: 0.7097 - jacard_coef: 0.2903 - val_loss: 1.0099 - val_accuracy: 0.7135 - val_jacard_coef: 0.3466\n",
      "Epoch 6/10\n",
      "73/73 [==============================] - 291s 4s/step - loss: 1.0095 - accuracy: 0.7097 - jacard_coef: 0.2954 - val_loss: 1.0097 - val_accuracy: 0.7134 - val_jacard_coef: 0.3439\n",
      "Epoch 7/10\n",
      "73/73 [==============================] - 291s 4s/step - loss: 1.0094 - accuracy: 0.7096 - jacard_coef: 0.2993 - val_loss: 1.0095 - val_accuracy: 0.7134 - val_jacard_coef: 0.3291\n",
      "Epoch 8/10\n",
      "73/73 [==============================] - 286s 4s/step - loss: 1.0093 - accuracy: 0.7095 - jacard_coef: 0.3040 - val_loss: 1.0094 - val_accuracy: 0.7134 - val_jacard_coef: 0.3458\n",
      "Epoch 9/10\n",
      "73/73 [==============================] - 288s 4s/step - loss: 1.0093 - accuracy: 0.7095 - jacard_coef: 0.3093 - val_loss: 1.0093 - val_accuracy: 0.7134 - val_jacard_coef: 0.3380\n",
      "Epoch 10/10\n",
      "73/73 [==============================] - 288s 4s/step - loss: 1.0092 - accuracy: 0.7095 - jacard_coef: 0.3136 - val_loss: 1.0093 - val_accuracy: 0.7134 - val_jacard_coef: 0.3514\n"
     ]
    }
   ],
   "source": [
    "#history1 = model.fit(X_train[0:1000], y_train[0:1000], \n",
    "history1 = model.fit(X_train, y_train, \n",
    "                    batch_size = 32, \n",
    "                    verbose=1, \n",
    "                    epochs=10, # change to desired number of epochs\n",
    "                    validation_data=(X_test, y_test), \n",
    "                    shuffle=False)"
   ]
  },
  {
   "cell_type": "code",
   "execution_count": 24,
   "id": "4b805640",
   "metadata": {},
   "outputs": [
    {
     "name": "stdout",
     "output_type": "stream",
     "text": [
      "INFO:tensorflow:Assets written to: Img_Seg_UNet_model_Pascal_Dataset\\assets\n"
     ]
    },
    {
     "name": "stderr",
     "output_type": "stream",
     "text": [
      "INFO:tensorflow:Assets written to: Img_Seg_UNet_model_Pascal_Dataset\\assets\n"
     ]
    }
   ],
   "source": [
    "# Saving the model to the disk\n",
    "model.save('Img_Seg_UNet_model_Pascal_Dataset')"
   ]
  },
  {
   "cell_type": "code",
   "execution_count": 25,
   "id": "d633446a",
   "metadata": {},
   "outputs": [],
   "source": [
    "def jacard_coef(y_true, y_pred, smooth=1):\n",
    "    intersection = tf.reduce_sum(y_true * y_pred, axis=[1,2,3])\n",
    "    union = tf.reduce_sum(y_true, axis=[1,2,3]) + tf.reduce_sum(y_pred, axis=[1,2,3]) - intersection\n",
    "    return tf.reduce_mean((intersection + smooth) / (union + smooth), axis=0)"
   ]
  },
  {
   "cell_type": "code",
   "execution_count": 26,
   "id": "0887e628",
   "metadata": {},
   "outputs": [
    {
     "name": "stdout",
     "output_type": "stream",
     "text": [
      "WARNING:tensorflow:From C:\\Users\\AVMI\\anaconda3\\envs\\test_env\\Lib\\site-packages\\keras\\src\\saving\\legacy\\saved_model\\load.py:107: The name tf.gfile.Exists is deprecated. Please use tf.io.gfile.exists instead.\n",
      "\n"
     ]
    },
    {
     "name": "stderr",
     "output_type": "stream",
     "text": [
      "WARNING:tensorflow:From C:\\Users\\AVMI\\anaconda3\\envs\\test_env\\Lib\\site-packages\\keras\\src\\saving\\legacy\\saved_model\\load.py:107: The name tf.gfile.Exists is deprecated. Please use tf.io.gfile.exists instead.\n",
      "\n"
     ]
    }
   ],
   "source": [
    "from tensorflow.keras.models import load_model\n",
    "\n",
    "# Define the custom loss function\n",
    "def dice_loss_plus_1focal_loss(y_true, y_pred):\n",
    "    smooth = 1\n",
    "    gamma=2.0\n",
    "    alpha=0.25 \n",
    "    dice_weight=1.0 \n",
    "    focal_weight=1.0\n",
    "    \n",
    "    #dice coeff\n",
    "    intersection = tf.reduce_sum(y_true * y_pred)\n",
    "    union = tf.reduce_sum(y_true) + tf.reduce_sum(y_pred)\n",
    "    dice_coeff = (2. * intersection + smooth) / (union + smooth)\n",
    "    \n",
    "    #dice loss\n",
    "    dice_loss = 1 - dice_coeff(y_true, y_pred)\n",
    "    \n",
    "    #focal loss\n",
    "    pt = y_true * y_pred + (1 - y_true) * (1 - y_pred)\n",
    "    focal_loss = -alpha * tf.pow(1 - pt, gamma) * tf.math.log(pt + 1e-8)\n",
    "    \n",
    "    return dice_weight * dice_loss + focal_weight * focal_loss\n",
    "\n",
    "# Register the custom loss function\n",
    "with tf.keras.utils.custom_object_scope({'dice_loss_plus_1focal_loss': dice_loss_plus_1focal_loss}, {\"jacard_coef\": jacard_coef} ):\n",
    "    # Load the model\n",
    "    segmentation_model = tf.keras.models.load_model('Img_Seg_UNet_model_Pascal_Dataset')\n",
    "\n",
    "# Define custom object dictionary with the necessary custom objects\n",
    "#custom_objects = {\"jacard_coef\": jacard_coef}\n",
    "\n",
    "\n",
    "# Load the model, providing the custom_objects dictionary\n",
    "#autoencoder_model = load_model('Img_Seg_model_031324', custom_objects=custom_objects)\n",
    "\n",
    "# Using the Model to make Predictions\n",
    "#autoencoder_model = tf.keras.models.load_model('Img_Seg_model_031324')"
   ]
  },
  {
   "cell_type": "code",
   "execution_count": 27,
   "id": "b790b2f6",
   "metadata": {},
   "outputs": [
    {
     "data": {
      "image/png": "[encoded data removed]",
      "text/plain": [
       "<Figure size 640x480 with 1 Axes>"
      ]
     },
     "metadata": {},
     "output_type": "display_data"
    },
    {
     "data": {
      "image/png": "[encoded data removed]",
      "text/plain": [
       "<Figure size 640x480 with 1 Axes>"
      ]
     },
     "metadata": {},
     "output_type": "display_data"
    }
   ],
   "source": [
    "#plot the training and validation accuracy and loss at each epoch\n",
    "history = history1\n",
    "loss = history.history['loss']\n",
    "val_loss = history.history['val_loss']\n",
    "epochs = range(1, len(loss) + 1)\n",
    "plt.plot(epochs, loss, 'y', label='Training loss')\n",
    "plt.plot(epochs, val_loss, 'r', label='Validation loss')\n",
    "plt.title('Training and validation loss')\n",
    "plt.xlabel('Epochs')\n",
    "plt.ylabel('Loss')\n",
    "plt.legend()\n",
    "plt.show()\n",
    "\n",
    "acc = history.history['jacard_coef']\n",
    "val_acc = history.history['val_jacard_coef']\n",
    "\n",
    "plt.plot(epochs, acc, 'y', label='Training IoU')\n",
    "plt.plot(epochs, val_acc, 'r', label='Validation IoU')\n",
    "plt.title('Training and validation IoU')\n",
    "plt.xlabel('Epochs')\n",
    "plt.ylabel('IoU')\n",
    "plt.legend()\n",
    "plt.show()\n",
    "\n"
   ]
  }
 ],
 "metadata": {
  "kernelspec": {
   "display_name": "Python 3 (ipykernel)",
   "language": "python",
   "name": "python3"
  },
  "language_info": {
   "codemirror_mode": {
    "name": "ipython",
    "version": 3
   },
   "file_extension": ".py",
   "mimetype": "text/x-python",
   "name": "python",
   "nbconvert_exporter": "python",
   "pygments_lexer": "ipython3",
   "version": "3.11.5"
  }
 },
 "nbformat": 4,
 "nbformat_minor": 5
}
